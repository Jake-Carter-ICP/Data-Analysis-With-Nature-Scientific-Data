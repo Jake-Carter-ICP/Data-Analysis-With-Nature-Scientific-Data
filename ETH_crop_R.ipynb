{
 "cells": [
  {
   "cell_type": "markdown",
   "metadata": {},
   "source": [
    "## R code for ETH data"
   ]
  },
  {
   "cell_type": "markdown",
   "metadata": {},
   "source": [
    "Preparation"
   ]
  },
  {
   "cell_type": "code",
   "execution_count": 1,
   "metadata": {
    "vscode": {
     "languageId": "r"
    }
   },
   "outputs": [
    {
     "name": "stdout",
     "output_type": "stream",
     "text": [
      "── \u001b[1mAttaching core tidyverse packages\u001b[22m ───────────────────────────────────────────────────────── tidyverse 2.0.0 ──\n",
      "\u001b[32m✔\u001b[39m \u001b[34mdplyr    \u001b[39m 1.1.4     \u001b[32m✔\u001b[39m \u001b[34mreadr    \u001b[39m 2.1.5\n",
      "\u001b[32m✔\u001b[39m \u001b[34mforcats  \u001b[39m 1.0.0     \u001b[32m✔\u001b[39m \u001b[34mstringr  \u001b[39m 1.5.1\n",
      "\u001b[32m✔\u001b[39m \u001b[34mggplot2  \u001b[39m 3.5.1     \u001b[32m✔\u001b[39m \u001b[34mtibble   \u001b[39m 3.2.1\n",
      "\u001b[32m✔\u001b[39m \u001b[34mlubridate\u001b[39m 1.9.3     \u001b[32m✔\u001b[39m \u001b[34mtidyr    \u001b[39m 1.3.1\n",
      "\u001b[32m✔\u001b[39m \u001b[34mpurrr    \u001b[39m 1.0.2     \n",
      "── \u001b[1mConflicts\u001b[22m ─────────────────────────────────────────────────────────────────────────── tidyverse_conflicts() ──\n",
      "\u001b[31m✖\u001b[39m \u001b[34mdplyr\u001b[39m::\u001b[32mfilter()\u001b[39m masks \u001b[34mstats\u001b[39m::filter()\n",
      "\u001b[31m✖\u001b[39m \u001b[34mdplyr\u001b[39m::\u001b[32mlag()\u001b[39m    masks \u001b[34mstats\u001b[39m::lag()\n",
      "\u001b[36mℹ\u001b[39m Use the \u001b]8;;http://conflicted.r-lib.org/\u0007conflicted package\u001b]8;;\u0007 to force all conflicts to become errors\n"
     ]
    }
   ],
   "source": [
    "library(tidyverse)\n",
    "\n",
    "theme_set(theme_classic())"
   ]
  },
  {
   "cell_type": "code",
   "execution_count": 2,
   "metadata": {
    "vscode": {
     "languageId": "r"
    }
   },
   "outputs": [
    {
     "name": "stdout",
     "output_type": "stream",
     "text": [
      "\u001b[1mRows: \u001b[22m\u001b[34m1352\u001b[39m \u001b[1mColumns: \u001b[22m\u001b[34m125\u001b[39m\n",
      "\u001b[36m──\u001b[39m \u001b[1mColumn specification\u001b[22m \u001b[36m─────────────────────────────────────────────────────────────────────────────────────────\u001b[39m\n",
      "\u001b[1mDelimiter:\u001b[22m \",\"\n",
      "\u001b[31mchr\u001b[39m   (7): FundingSource, ID, SamplingStart, SamplingEnd, Crop, GrainSource, Site\n",
      "\u001b[32mdbl\u001b[39m (118): Crop_ICP_Run, Latitude, Longitude, Altitude, LocationPrecision, Ag_grain, Al_grain, As_grain, B_gr...\n",
      "\n",
      "\u001b[36mℹ\u001b[39m Use `spec()` to retrieve the full column specification for this data.\n",
      "\u001b[36mℹ\u001b[39m Specify the column types or set `show_col_types = FALSE` to quiet this message.\n"
     ]
    }
   ],
   "source": [
    "df <- read_csv('ETH_CropSoilData_NA.csv')"
   ]
  },
  {
   "cell_type": "code",
   "execution_count": 3,
   "metadata": {
    "vscode": {
     "languageId": "r"
    }
   },
   "outputs": [
    {
     "data": {
      "text/plain": [
       "\u001b[38;5;246m# A tibble: 1,352 × 125\u001b[39m\n",
       "   FundingSource ID    Crop_ICP_Run Latitude Longitude Altitude LocationPrecision SamplingStart SamplingEnd Crop \n",
       "   \u001b[3m\u001b[38;5;246m<chr>\u001b[39m\u001b[23m         \u001b[3m\u001b[38;5;246m<chr>\u001b[39m\u001b[23m        \u001b[3m\u001b[38;5;246m<dbl>\u001b[39m\u001b[23m    \u001b[3m\u001b[38;5;246m<dbl>\u001b[39m\u001b[23m     \u001b[3m\u001b[38;5;246m<dbl>\u001b[39m\u001b[23m    \u001b[3m\u001b[38;5;246m<dbl>\u001b[39m\u001b[23m             \u001b[3m\u001b[38;5;246m<dbl>\u001b[39m\u001b[23m \u001b[3m\u001b[38;5;246m<chr>\u001b[39m\u001b[23m         \u001b[3m\u001b[38;5;246m<chr>\u001b[39m\u001b[23m       \u001b[3m\u001b[38;5;246m<chr>\u001b[39m\u001b[23m\n",
       "\u001b[38;5;250m 1\u001b[39m GCRF          ETH0…            1     10.7      38.9    \u001b[4m2\u001b[24m464.                 4 25/11/2017    25/11/2017  Wheat\n",
       "\u001b[38;5;250m 2\u001b[39m GCRF          ETH0…            1     10.7      38.9    \u001b[4m2\u001b[24m471.                 4 25/11/2017    25/11/2017  Wheat\n",
       "\u001b[38;5;250m 3\u001b[39m GCRF          ETH0…            1     10.8      38.7    \u001b[4m2\u001b[24m718.                 4 24/11/2017    24/11/2017  Wheat\n",
       "\u001b[38;5;250m 4\u001b[39m GCRF          ETH0…            1     10.8      38.6    \u001b[4m2\u001b[24m307.                 4 24/11/2017    24/11/2017  Wheat\n",
       "\u001b[38;5;250m 5\u001b[39m GCRF          ETH0…            1     10.8      38.7    \u001b[4m2\u001b[24m659.                 4 24/11/2017    24/11/2017  Barl…\n",
       "\u001b[38;5;250m 6\u001b[39m GCRF          ETH0…            1     10.8      38.8    \u001b[4m2\u001b[24m564.                 4 24/11/2017    24/11/2017  Wheat\n",
       "\u001b[38;5;250m 7\u001b[39m GCRF          ETH0…            1     10.8      38.7    \u001b[4m2\u001b[24m545.                 4 24/11/2017    24/11/2017  Wheat\n",
       "\u001b[38;5;250m 8\u001b[39m GCRF          ETH0…            1     10.7      38.8    \u001b[4m2\u001b[24m650.                 4 25/11/2017    25/11/2017  Wheat\n",
       "\u001b[38;5;250m 9\u001b[39m GCRF          ETH0…            1     10.7      38.6    \u001b[4m2\u001b[24m225.                 4 25/11/2017    25/11/2017  Teff \n",
       "\u001b[38;5;250m10\u001b[39m GCRF          ETH0…            1     10.7      38.7    \u001b[4m2\u001b[24m386.                 4 25/11/2017    25/11/2017  Wheat\n",
       "\u001b[38;5;246m# ℹ 1,342 more rows\u001b[39m\n",
       "\u001b[38;5;246m# ℹ 115 more variables: GrainSource <chr>, Site <chr>, Ag_grain <dbl>, Al_grain <dbl>, As_grain <dbl>,\u001b[39m\n",
       "\u001b[38;5;246m#   B_grain <dbl>, Ba_grain <dbl>, Be_grain <dbl>, Ca_grain <dbl>, Cd_grain <dbl>, Co_grain <dbl>,\u001b[39m\n",
       "\u001b[38;5;246m#   Cr_grain <dbl>, Cs_grain <dbl>, Cu_grain <dbl>, Fe_grain <dbl>, K_grain <dbl>, Li_grain <dbl>,\u001b[39m\n",
       "\u001b[38;5;246m#   Mg_grain <dbl>, Mn_grain <dbl>, Mo_grain <dbl>, Ni_grain <dbl>, P_grain <dbl>, Pb_grain <dbl>,\u001b[39m\n",
       "\u001b[38;5;246m#   Rb_grain <dbl>, S_grain <dbl>, Se_grain <dbl>, Sr_grain <dbl>, Tl_grain <dbl>, U_grain <dbl>, V_grain <dbl>,\u001b[39m\n",
       "\u001b[38;5;246m#   Zn_grain <dbl>, Al_Oxa <dbl>, Al_Sol_Ca <dbl>, Al_Tot_Aqu <dbl>, As_Tot_Aqu <dbl>, Ba_Sol_Ca <dbl>, …\u001b[39m\n",
       "\u001b[38;5;246m# ℹ Use `print(n = ...)` to see more rows, and `colnames()` to see all variable names\u001b[39m"
      ]
     },
     "execution_count": null,
     "metadata": {},
     "output_type": "execute_result"
    }
   ],
   "source": [
    "df"
   ]
  },
  {
   "cell_type": "code",
   "execution_count": 4,
   "metadata": {
    "vscode": {
     "languageId": "r"
    }
   },
   "outputs": [
    {
     "name": "stdout",
     "output_type": "stream",
     "text": [
      "spc_tbl_ [1,352 × 125] (S3: spec_tbl_df/tbl_df/tbl/data.frame)\n",
      " $ FundingSource    : chr [1:1352] \"GCRF\" \"GCRF\" \"GCRF\" \"GCRF\" ...\n",
      " $ ID               : chr [1:1352] \"ETH0002\" \"ETH0003\" \"ETH0004\" \"ETH0005\" ...\n",
      " $ Crop_ICP_Run     : num [1:1352] 1 1 1 1 1 1 1 1 1 1 ...\n",
      " $ Latitude         : num [1:1352] 10.7 10.7 10.8 10.8 10.8 ...\n",
      " $ Longitude        : num [1:1352] 38.9 38.9 38.7 38.6 38.7 ...\n",
      " $ Altitude         : num [1:1352] 2464 2471 2718 2307 2659 ...\n",
      " $ LocationPrecision: num [1:1352] 4 4 4 4 4 4 4 4 4 4 ...\n",
      " $ SamplingStart    : chr [1:1352] \"25/11/2017\" \"25/11/2017\" \"24/11/2017\" \"24/11/2017\" ...\n",
      " $ SamplingEnd      : chr [1:1352] \"25/11/2017\" \"25/11/2017\" \"24/11/2017\" \"24/11/2017\" ...\n",
      " $ Crop             : chr [1:1352] \"Wheat\" \"Wheat\" \"Wheat\" \"Wheat\" ...\n",
      " $ GrainSource      : chr [1:1352] \"Field stack\" \"Field stack\" \"Standing crop\" \"Standing crop\" ...\n",
      " $ Site             : chr [1:1352] \"Main\" \"Main\" \"Main\" \"Main\" ...\n",
      " $ Ag_grain         : num [1:1352] NA NA NA NA NA NA NA NA NA NA ...\n",
      " $ Al_grain         : num [1:1352] 3.76 5.73 8.6 4.3 21 ...\n",
      " $ As_grain         : num [1:1352] NA NA NA NA NA ...\n",
      " $ B_grain          : num [1:1352] NA NA NA NA NA NA NA NA NA NA ...\n",
      " $ Ba_grain         : num [1:1352] 4.54 2.84 5.39 5.27 16.26 ...\n",
      " $ Be_grain         : num [1:1352] NA NA NA NA NA NA NA NA NA NA ...\n",
      " $ Ca_grain         : num [1:1352] 400 379 392 350 255 ...\n",
      " $ Cd_grain         : num [1:1352] NA NA NA NA NA NA NA NA NA NA ...\n",
      " $ Co_grain         : num [1:1352] 0.0558 0.0254 0.0844 0.0123 0.0171 ...\n",
      " $ Cr_grain         : num [1:1352] NA NA NA NA NA NA NA NA NA NA ...\n",
      " $ Cs_grain         : num [1:1352] 0.00147 NA NA NA NA ...\n",
      " $ Cu_grain         : num [1:1352] 3.3 2.75 2.88 3.45 4.69 ...\n",
      " $ Fe_grain         : num [1:1352] 31.5 35 37.8 32 48.1 ...\n",
      " $ K_grain          : num [1:1352] 4411 4044 3927 4276 5854 ...\n",
      " $ Li_grain         : num [1:1352] NA NA NA NA NA ...\n",
      " $ Mg_grain         : num [1:1352] 1288 1233 1132 1367 1221 ...\n",
      " $ Mn_grain         : num [1:1352] 34 24.9 76.3 30.7 12.6 ...\n",
      " $ Mo_grain         : num [1:1352] 3.805 0.237 NA 0.529 NA ...\n",
      " $ Ni_grain         : num [1:1352] 0.722 NA 1.21 NA NA ...\n",
      " $ P_grain          : num [1:1352] 3716 3516 3409 3900 3574 ...\n",
      " $ Pb_grain         : num [1:1352] NA NA NA NA NA ...\n",
      " $ Rb_grain         : num [1:1352] 3.86 1.73 4.73 1.24 2.7 ...\n",
      " $ S_grain          : num [1:1352] 1203 1028 1073 1145 968 ...\n",
      " $ Se_grain         : num [1:1352] 0.1303 0.1082 0.0204 0.0844 NA ...\n",
      " $ Sr_grain         : num [1:1352] 2.39 1.47 2.23 2.06 2.04 ...\n",
      " $ Tl_grain         : num [1:1352] NA NA NA NA NA NA NA NA 0.00114 NA ...\n",
      " $ U_grain          : num [1:1352] NA NA NA NA NA NA NA NA NA NA ...\n",
      " $ V_grain          : num [1:1352] 0.0107 0.0164 0.0232 0.0131 0.0532 ...\n",
      " $ Zn_grain         : num [1:1352] 29.9 24.5 21.8 29.2 21 ...\n",
      " $ Al_Oxa           : num [1:1352] 3198 3813 4624 3657 3932 ...\n",
      " $ Al_Sol_Ca        : num [1:1352] 0.0263 0.0397 0.0684 0.0709 0.0829 ...\n",
      " $ Al_Tot_Aqu       : num [1:1352] 72835 76523 90745 81764 99082 ...\n",
      " $ As_Tot_Aqu       : num [1:1352] 3.28 1.65 4.57 7.01 3.05 ...\n",
      " $ Ba_Sol_Ca        : num [1:1352] 4.85 4.4 12.16 12.63 129.62 ...\n",
      " $ C_inorg          : num [1:1352] 0.0404 0.0496 0.0349 0 0 0 0 0 0 0 ...\n",
      " $ C_org            : num [1:1352] 1.392 0.784 1.49 2.073 1.288 ...\n",
      " $ C_tot            : num [1:1352] 1.432 0.834 1.525 2.073 1.288 ...\n",
      " $ Ca_CEC           : num [1:1352] 39.5 39.2 23.7 25.2 19.1 ...\n",
      " $ Ca_Tot_Aqu       : num [1:1352] 12883 13196 6115 6498 5735 ...\n",
      " $ Cd_DTPA          : num [1:1352] NA NA NA NA NA NA NA NA NA NA ...\n",
      " $ Cd_Sol_Ca        : num [1:1352] 0.00007 0.00004 0.00019 0.00037 0.00073 0.0002 0.00206 0.00057 0.00011 0.00028 ...\n",
      " $ Cd_Tot_Aqu       : num [1:1352] 0.725 0.527 1.063 0.741 0.674 ...\n",
      " $ Co_CaCl          : num [1:1352] 0.00615 0.00488 0.01612 0.02417 0.06371 ...\n",
      " $ Co_DTPA          : num [1:1352] NA NA NA NA NA NA NA NA NA NA ...\n",
      " $ Co_Sol_Ca        : num [1:1352] 0.00258 0.00234 0.00251 0.00242 0.00261 ...\n",
      " $ Co_Tot_Aqu       : num [1:1352] 66.4 32.5 120.6 31.8 27.1 ...\n",
      " $ Cr_Tot_Aqu       : num [1:1352] 162.9 96.8 735.9 70.3 18.2 ...\n",
      " $ Cu_CaCl          : num [1:1352] NA NA 0.00447 NA NA NA NA NA NA NA ...\n",
      " $ Cu_DTPA          : num [1:1352] NA NA NA NA NA NA NA NA NA NA ...\n",
      " $ Cu_Sol_Ca        : num [1:1352] 0.01445 0.00818 0.01553 0.00927 0.00663 ...\n",
      " $ Cu_Tot_Aqu       : num [1:1352] 62.75 44.12 143.37 29.77 6.42 ...\n",
      " $ eCEC             : num [1:1352] 55.5 55.7 43.9 40 35.1 ...\n",
      " $ Fe_CaCl          : num [1:1352] 0.0413 NA 1.2835 0.2925 0.062 ...\n",
      " $ Fe_DTPA          : num [1:1352] NA NA NA NA NA NA NA NA NA NA ...\n",
      " $ Fe_Oxa           : num [1:1352] 5970 4895 8661 12738 5595 ...\n",
      " $ Fe_Sol_Ca        : num [1:1352] 0.00513 0.01352 0.00833 0.04555 0.02008 ...\n",
      " $ Fe_Tot_Aqu       : num [1:1352] 90088 79700 130894 97410 95938 ...\n",
      " $ K_CaCl           : num [1:1352] 49.9 49.1 328.3 138.6 88.6 ...\n",
      " $ K_CEC            : num [1:1352] 0.43 0.362 2.298 0.987 0.541 ...\n",
      " $ K_Sol_Ca         : num [1:1352] 50 45 357.4 152.9 96.4 ...\n",
      " $ K_Tot_Aqu        : num [1:1352] 3391 4246 4323 4343 2021 ...\n",
      " $ Mg_CaCl          : num [1:1352] 306 299 532 366 387 ...\n",
      " $ Mg_CEC           : num [1:1352] 6.95 7.18 10.63 7.03 6.5 ...\n",
      " $ Mg_Sol_Ca        : num [1:1352] 241 244 427 295 310 ...\n",
      " $ Mg_Tot_Aqu       : num [1:1352] 8709 10362 11584 4594 5493 ...\n",
      " $ Mn_CaCl          : num [1:1352] 0.629 0.718 3.892 19.341 25.635 ...\n",
      " $ Mn_DTPA          : num [1:1352] NA NA NA NA NA NA NA NA NA NA ...\n",
      " $ Mn_Oxa           : num [1:1352] 2915 1135 2671 2206 904 ...\n",
      " $ Mn_Sol_Ca        : num [1:1352] 0.00216 0.0018 0.00803 0.11217 0.39338 ...\n",
      " $ Mn_Tot_Aqu       : num [1:1352] 3444 1452 3406 2801 1512 ...\n",
      " $ Mo_CaCl          : num [1:1352] 0.02971 0.00135 0.00201 0.00053 0.00014 ...\n",
      " $ Mo_Sol_Ca        : num [1:1352] 0.01725 0.0012 0.00098 0.00036 0.00009 ...\n",
      " $ Mo_Tot_Aqu       : num [1:1352] 0.38971 NA 0.00886 0.34702 NA ...\n",
      " $ N_tot            : num [1:1352] 0.1209 0.0721 0.1361 0.1838 0.1008 ...\n",
      " $ Na_CaCl          : num [1:1352] 12.9 15.9 18.1 14.5 14.6 ...\n",
      " $ Na_CEC           : num [1:1352] 0.0822 0.0758 0.092 0.1432 0.0663 ...\n",
      " $ Na_Sol_Ca        : num [1:1352] 8.2 10.21 13.32 8.86 11.15 ...\n",
      " $ Na_Tot_Aqu       : num [1:1352] 125 157 134 107 154 ...\n",
      " $ Ni_CaCl          : num [1:1352] 0.05332 0.01265 0.08573 0.04868 0.00404 ...\n",
      " $ Ni_DTPA          : num [1:1352] NA NA NA NA NA NA NA NA NA NA ...\n",
      " $ Ni_Sol_Ca        : num [1:1352] 0.0319 0.0128 0.0501 0.0315 0.0105 ...\n",
      " $ Ni_Tot_Aqu       : num [1:1352] 115.2 81.5 366.9 58.1 11.4 ...\n",
      " $ NOPC             : num [1:1352] 19 19.3 18.2 15.9 17.3 ...\n",
      " $ P_CaCl           : num [1:1352] 0.711 0.148 0.54 0.798 0.453 ...\n",
      " $ P_Olsen          : num [1:1352] 32.6 6.6 18.8 60.7 28.9 ...\n",
      " $ P_Oxa            : num [1:1352] 503 212 391 913 888 ...\n",
      " $ P_Sol_Ca         : num [1:1352] 0.5454 0.0861 0.146 0.5952 0.2256 ...\n",
      "  [list output truncated]\n",
      " - attr(*, \"spec\")=\n",
      "  .. cols(\n",
      "  ..   FundingSource = \u001b[31mcol_character()\u001b[39m,\n",
      "  ..   ID = \u001b[31mcol_character()\u001b[39m,\n",
      "  ..   Crop_ICP_Run = \u001b[32mcol_double()\u001b[39m,\n",
      "  ..   Latitude = \u001b[32mcol_double()\u001b[39m,\n",
      "  ..   Longitude = \u001b[32mcol_double()\u001b[39m,\n",
      "  ..   Altitude = \u001b[32mcol_double()\u001b[39m,\n",
      "  ..   LocationPrecision = \u001b[32mcol_double()\u001b[39m,\n",
      "  ..   SamplingStart = \u001b[31mcol_character()\u001b[39m,\n",
      "  ..   SamplingEnd = \u001b[31mcol_character()\u001b[39m,\n",
      "  ..   Crop = \u001b[31mcol_character()\u001b[39m,\n",
      "  ..   GrainSource = \u001b[31mcol_character()\u001b[39m,\n",
      "  ..   Site = \u001b[31mcol_character()\u001b[39m,\n",
      "  ..   Ag_grain = \u001b[32mcol_double()\u001b[39m,\n",
      "  ..   Al_grain = \u001b[32mcol_double()\u001b[39m,\n",
      "  ..   As_grain = \u001b[32mcol_double()\u001b[39m,\n",
      "  ..   B_grain = \u001b[32mcol_double()\u001b[39m,\n",
      "  ..   Ba_grain = \u001b[32mcol_double()\u001b[39m,\n",
      "  ..   Be_grain = \u001b[32mcol_double()\u001b[39m,\n",
      "  ..   Ca_grain = \u001b[32mcol_double()\u001b[39m,\n",
      "  ..   Cd_grain = \u001b[32mcol_double()\u001b[39m,\n",
      "  ..   Co_grain = \u001b[32mcol_double()\u001b[39m,\n",
      "  ..   Cr_grain = \u001b[32mcol_double()\u001b[39m,\n",
      "  ..   Cs_grain = \u001b[32mcol_double()\u001b[39m,\n",
      "  ..   Cu_grain = \u001b[32mcol_double()\u001b[39m,\n",
      "  ..   Fe_grain = \u001b[32mcol_double()\u001b[39m,\n",
      "  ..   K_grain = \u001b[32mcol_double()\u001b[39m,\n",
      "  ..   Li_grain = \u001b[32mcol_double()\u001b[39m,\n",
      "  ..   Mg_grain = \u001b[32mcol_double()\u001b[39m,\n",
      "  ..   Mn_grain = \u001b[32mcol_double()\u001b[39m,\n",
      "  ..   Mo_grain = \u001b[32mcol_double()\u001b[39m,\n",
      "  ..   Ni_grain = \u001b[32mcol_double()\u001b[39m,\n",
      "  ..   P_grain = \u001b[32mcol_double()\u001b[39m,\n",
      "  ..   Pb_grain = \u001b[32mcol_double()\u001b[39m,\n",
      "  ..   Rb_grain = \u001b[32mcol_double()\u001b[39m,\n",
      "  ..   S_grain = \u001b[32mcol_double()\u001b[39m,\n",
      "  ..   Se_grain = \u001b[32mcol_double()\u001b[39m,\n",
      "  ..   Sr_grain = \u001b[32mcol_double()\u001b[39m,\n",
      "  ..   Tl_grain = \u001b[32mcol_double()\u001b[39m,\n",
      "  ..   U_grain = \u001b[32mcol_double()\u001b[39m,\n",
      "  ..   V_grain = \u001b[32mcol_double()\u001b[39m,\n",
      "  ..   Zn_grain = \u001b[32mcol_double()\u001b[39m,\n",
      "  ..   Al_Oxa = \u001b[32mcol_double()\u001b[39m,\n",
      "  ..   Al_Sol_Ca = \u001b[32mcol_double()\u001b[39m,\n",
      "  ..   Al_Tot_Aqu = \u001b[32mcol_double()\u001b[39m,\n",
      "  ..   As_Tot_Aqu = \u001b[32mcol_double()\u001b[39m,\n",
      "  ..   Ba_Sol_Ca = \u001b[32mcol_double()\u001b[39m,\n",
      "  ..   C_inorg = \u001b[32mcol_double()\u001b[39m,\n",
      "  ..   C_org = \u001b[32mcol_double()\u001b[39m,\n",
      "  ..   C_tot = \u001b[32mcol_double()\u001b[39m,\n",
      "  ..   Ca_CEC = \u001b[32mcol_double()\u001b[39m,\n",
      "  ..   Ca_Tot_Aqu = \u001b[32mcol_double()\u001b[39m,\n",
      "  ..   Cd_DTPA = \u001b[32mcol_double()\u001b[39m,\n",
      "  ..   Cd_Sol_Ca = \u001b[32mcol_double()\u001b[39m,\n",
      "  ..   Cd_Tot_Aqu = \u001b[32mcol_double()\u001b[39m,\n",
      "  ..   Co_CaCl = \u001b[32mcol_double()\u001b[39m,\n",
      "  ..   Co_DTPA = \u001b[32mcol_double()\u001b[39m,\n",
      "  ..   Co_Sol_Ca = \u001b[32mcol_double()\u001b[39m,\n",
      "  ..   Co_Tot_Aqu = \u001b[32mcol_double()\u001b[39m,\n",
      "  ..   Cr_Tot_Aqu = \u001b[32mcol_double()\u001b[39m,\n",
      "  ..   Cu_CaCl = \u001b[32mcol_double()\u001b[39m,\n",
      "  ..   Cu_DTPA = \u001b[32mcol_double()\u001b[39m,\n",
      "  ..   Cu_Sol_Ca = \u001b[32mcol_double()\u001b[39m,\n",
      "  ..   Cu_Tot_Aqu = \u001b[32mcol_double()\u001b[39m,\n",
      "  ..   eCEC = \u001b[32mcol_double()\u001b[39m,\n",
      "  ..   Fe_CaCl = \u001b[32mcol_double()\u001b[39m,\n",
      "  ..   Fe_DTPA = \u001b[32mcol_double()\u001b[39m,\n",
      "  ..   Fe_Oxa = \u001b[32mcol_double()\u001b[39m,\n",
      "  ..   Fe_Sol_Ca = \u001b[32mcol_double()\u001b[39m,\n",
      "  ..   Fe_Tot_Aqu = \u001b[32mcol_double()\u001b[39m,\n",
      "  ..   K_CaCl = \u001b[32mcol_double()\u001b[39m,\n",
      "  ..   K_CEC = \u001b[32mcol_double()\u001b[39m,\n",
      "  ..   K_Sol_Ca = \u001b[32mcol_double()\u001b[39m,\n",
      "  ..   K_Tot_Aqu = \u001b[32mcol_double()\u001b[39m,\n",
      "  ..   Mg_CaCl = \u001b[32mcol_double()\u001b[39m,\n",
      "  ..   Mg_CEC = \u001b[32mcol_double()\u001b[39m,\n",
      "  ..   Mg_Sol_Ca = \u001b[32mcol_double()\u001b[39m,\n",
      "  ..   Mg_Tot_Aqu = \u001b[32mcol_double()\u001b[39m,\n",
      "  ..   Mn_CaCl = \u001b[32mcol_double()\u001b[39m,\n",
      "  ..   Mn_DTPA = \u001b[32mcol_double()\u001b[39m,\n",
      "  ..   Mn_Oxa = \u001b[32mcol_double()\u001b[39m,\n",
      "  ..   Mn_Sol_Ca = \u001b[32mcol_double()\u001b[39m,\n",
      "  ..   Mn_Tot_Aqu = \u001b[32mcol_double()\u001b[39m,\n",
      "  ..   Mo_CaCl = \u001b[32mcol_double()\u001b[39m,\n",
      "  ..   Mo_Sol_Ca = \u001b[32mcol_double()\u001b[39m,\n",
      "  ..   Mo_Tot_Aqu = \u001b[32mcol_double()\u001b[39m,\n",
      "  ..   N_tot = \u001b[32mcol_double()\u001b[39m,\n",
      "  ..   Na_CaCl = \u001b[32mcol_double()\u001b[39m,\n",
      "  ..   Na_CEC = \u001b[32mcol_double()\u001b[39m,\n",
      "  ..   Na_Sol_Ca = \u001b[32mcol_double()\u001b[39m,\n",
      "  ..   Na_Tot_Aqu = \u001b[32mcol_double()\u001b[39m,\n",
      "  ..   Ni_CaCl = \u001b[32mcol_double()\u001b[39m,\n",
      "  ..   Ni_DTPA = \u001b[32mcol_double()\u001b[39m,\n",
      "  ..   Ni_Sol_Ca = \u001b[32mcol_double()\u001b[39m,\n",
      "  ..   Ni_Tot_Aqu = \u001b[32mcol_double()\u001b[39m,\n",
      "  ..   NOPC = \u001b[32mcol_double()\u001b[39m,\n",
      "  ..   P_CaCl = \u001b[32mcol_double()\u001b[39m,\n",
      "  ..   P_Olsen = \u001b[32mcol_double()\u001b[39m,\n",
      "  ..   P_Oxa = \u001b[32mcol_double()\u001b[39m,\n",
      "  ..   P_Sol_Ca = \u001b[32mcol_double()\u001b[39m,\n",
      "  ..   P_Tot_Aqu = \u001b[32mcol_double()\u001b[39m,\n",
      "  ..   Pb_DTPA = \u001b[32mcol_double()\u001b[39m,\n",
      "  ..   Pb_Sol_Ca = \u001b[32mcol_double()\u001b[39m,\n",
      "  ..   Pb_Tot_Aqu = \u001b[32mcol_double()\u001b[39m,\n",
      "  ..   PBI = \u001b[32mcol_double()\u001b[39m,\n",
      "  ..   pH_CaNO = \u001b[32mcol_double()\u001b[39m,\n",
      "  ..   pH_w = \u001b[32mcol_double()\u001b[39m,\n",
      "  ..   S_Ads_Seq = \u001b[32mcol_double()\u001b[39m,\n",
      "  ..   S_CaCl = \u001b[32mcol_double()\u001b[39m,\n",
      "  ..   S_Org_Seq = \u001b[32mcol_double()\u001b[39m,\n",
      "  ..   S_Sol_Seq = \u001b[32mcol_double()\u001b[39m,\n",
      "  ..   S_Tot_Aqu = \u001b[32mcol_double()\u001b[39m,\n",
      "  ..   Se_Ads_Seq = \u001b[32mcol_double()\u001b[39m,\n",
      "  ..   Se_CaCl = \u001b[32mcol_double()\u001b[39m,\n",
      "  ..   Se_Org_Seq = \u001b[32mcol_double()\u001b[39m,\n",
      "  ..   Se_Sol_Seq = \u001b[32mcol_double()\u001b[39m,\n",
      "  ..   Se_Tot_Aqu = \u001b[32mcol_double()\u001b[39m,\n",
      "  ..   Ti_Tot_Aqu = \u001b[32mcol_double()\u001b[39m,\n",
      "  ..   U_Sol_Ca = \u001b[32mcol_double()\u001b[39m,\n",
      "  ..   Zn_CaCl = \u001b[32mcol_double()\u001b[39m,\n",
      "  ..   Zn_DTPA = \u001b[32mcol_double()\u001b[39m,\n",
      "  ..   Zn_E = \u001b[32mcol_double()\u001b[39m,\n",
      "  ..   Zn_FIA = \u001b[32mcol_double()\u001b[39m,\n",
      "  ..   Zn_LogKd = \u001b[32mcol_double()\u001b[39m,\n",
      "  ..   Zn_Sol_Ca = \u001b[32mcol_double()\u001b[39m,\n",
      "  ..   Zn_Tot_Aqu = \u001b[32mcol_double()\u001b[39m\n",
      "  .. )\n",
      " - attr(*, \"problems\")=<externalptr> \n"
     ]
    }
   ],
   "source": [
    "str(df)"
   ]
  },
  {
   "cell_type": "code",
   "execution_count": 5,
   "metadata": {
    "vscode": {
     "languageId": "r"
    }
   },
   "outputs": [
    {
     "data": {
      "text/plain": [
       " FundingSource           ID             Crop_ICP_Run      Latitude        Longitude        Altitude   \n",
       " Length:1352        Length:1352        Min.   :1.000   Min.   : 6.617   Min.   :35.26   Min.   : 620  \n",
       " Class :character   Class :character   1st Qu.:1.000   1st Qu.: 8.513   1st Qu.:37.75   1st Qu.:1857  \n",
       " Mode  :character   Mode  :character   Median :2.000   Median : 9.662   Median :38.78   Median :2204  \n",
       "                                       Mean   :2.575   Mean   :10.056   Mean   :38.64   Mean   :2204  \n",
       "                                       3rd Qu.:4.000   3rd Qu.:11.396   3rd Qu.:39.40   3rd Qu.:2544  \n",
       "                                       Max.   :5.000   Max.   :14.624   Max.   :42.39   Max.   :3593  \n",
       "                                                                                                      \n",
       " LocationPrecision SamplingStart      SamplingEnd            Crop           GrainSource       \n",
       " Min.   : 2.000    Length:1352        Length:1352        Length:1352        Length:1352       \n",
       " 1st Qu.: 4.000    Class :character   Class :character   Class :character   Class :character  \n",
       " Median : 4.000    Mode  :character   Mode  :character   Mode  :character   Mode  :character  \n",
       " Mean   : 4.489                                                                               \n",
       " 3rd Qu.: 4.000                                                                               \n",
       " Max.   :16.000                                                                               \n",
       "                                                                                              \n",
       "     Site              Ag_grain         Al_grain           As_grain         B_grain          Ba_grain       \n",
       " Length:1352        Min.   :0.0023   Min.   :   2.317   Min.   :0.0024   Min.   : 1.073   Min.   :  0.0487  \n",
       " Class :character   1st Qu.:0.0037   1st Qu.:   9.580   1st Qu.:0.0071   1st Qu.: 1.208   1st Qu.:  0.7946  \n",
       " Mode  :character   Median :0.0062   Median :  17.307   Median :0.0139   Median : 1.283   Median :  5.6484  \n",
       "                    Mean   :0.0135   Mean   :  96.218   Mean   :0.0401   Mean   : 4.188   Mean   :  8.3303  \n",
       "                    3rd Qu.:0.0142   3rd Qu.:  47.081   3rd Qu.:0.0295   3rd Qu.: 2.683   3rd Qu.: 11.2711  \n",
       "                    Max.   :0.1048   Max.   :5146.503   Max.   :2.0957   Max.   :36.545   Max.   :617.0430  \n",
       "                    NA's   :995      NA's   :146        NA's   :938      NA's   :1338     NA's   :83        \n",
       "    Be_grain         Ca_grain          Cd_grain         Co_grain          Cr_grain           Cs_grain     \n",
       " Min.   :0.0184   Min.   :  24.35   Min.   :0.0051   Min.   :0.00237   Min.   :  0.0343   Min.   :0.0008  \n",
       " 1st Qu.:0.0342   1st Qu.: 159.41   1st Qu.:0.0082   1st Qu.:0.01902   1st Qu.:  0.3795   1st Qu.:0.0022  \n",
       " Median :0.0463   Median : 411.08   Median :0.0199   Median :0.03480   Median :  0.6709   Median :0.0039  \n",
       " Mean   :0.0538   Mean   : 734.86   Mean   :0.1293   Mean   :0.10177   Mean   :  2.0750   Mean   :0.0088  \n",
       " 3rd Qu.:0.0648   3rd Qu.:1295.83   3rd Qu.:0.0718   3rd Qu.:0.07985   3rd Qu.:  1.6039   3rd Qu.:0.0086  \n",
       " Max.   :0.1340   Max.   :7924.59   Max.   :7.7465   Max.   :3.42011   Max.   :155.4505   Max.   :0.1480  \n",
       " NA's   :1293                       NA's   :1218     NA's   :188       NA's   :591        NA's   :750     \n",
       "    Cu_grain          Fe_grain           K_grain        Li_grain         Mg_grain         Mn_grain      \n",
       " Min.   : 0.2511   Min.   :   9.278   Min.   :2430   Min.   :0.0261   Min.   : 643.2   Min.   :  2.872  \n",
       " 1st Qu.: 2.2334   1st Qu.:  30.408   1st Qu.:3851   1st Qu.:0.0633   1st Qu.:1084.3   1st Qu.: 10.372  \n",
       " Median : 4.0471   Median :  43.750   Median :4378   Median :0.1024   Median :1322.8   Median : 27.643  \n",
       " Mean   : 4.2974   Mean   : 123.666   Mean   :4436   Mean   :0.2175   Mean   :1419.4   Mean   : 50.287  \n",
       " 3rd Qu.: 5.7682   3rd Qu.:  78.705   3rd Qu.:4941   3rd Qu.:0.2062   3rd Qu.:1755.8   3rd Qu.: 53.976  \n",
       " Max.   :47.2414   Max.   :4987.418   Max.   :9372   Max.   :3.5605   Max.   :3043.0   Max.   :607.271  \n",
       "                   NA's   :4                         NA's   :1201                                       \n",
       "    Mo_grain           Ni_grain          P_grain        Pb_grain         Rb_grain          S_grain      \n",
       " Min.   : 0.01328   Min.   : 0.2027   Min.   :1276   Min.   :0.0105   Min.   : 0.3124   Min.   : 565.4  \n",
       " 1st Qu.: 0.13131   1st Qu.: 0.6094   1st Qu.:2716   1st Qu.:0.0354   1st Qu.: 2.1154   1st Qu.:1345.7  \n",
       " Median : 0.31690   Median : 0.9991   Median :3268   Median :0.0576   Median : 3.5303   Median :1652.0  \n",
       " Mean   : 1.19977   Mean   : 1.9077   Mean   :3271   Mean   :0.1600   Mean   : 4.5733   Mean   :1656.8  \n",
       " 3rd Qu.: 0.70831   3rd Qu.: 2.1828   3rd Qu.:3838   3rd Qu.:0.1113   3rd Qu.: 5.8007   3rd Qu.:1951.8  \n",
       " Max.   :43.50228   Max.   :79.3671   Max.   :5578   Max.   :3.4669   Max.   :48.3807   Max.   :3120.7  \n",
       " NA's   :187        NA's   :562                      NA's   :1063                                       \n",
       "    Se_grain         Sr_grain           Tl_grain         U_grain          V_grain            Zn_grain    \n",
       " Min.   :0.0062   Min.   : 0.05204   Min.   :0.0005   Min.   :0.0003   Min.   : 0.00731   Min.   :10.33  \n",
       " 1st Qu.:0.0245   1st Qu.: 0.69862   1st Qu.:0.0009   1st Qu.:0.0009   1st Qu.: 0.07256   1st Qu.:19.39  \n",
       " Median :0.0575   Median : 2.37002   Median :0.0016   Median :0.0022   Median : 0.14738   Median :23.91  \n",
       " Mean   :0.1257   Mean   : 3.63661   Mean   :0.0031   Mean   :0.0073   Mean   : 0.34358   Mean   :24.68  \n",
       " 3rd Qu.:0.1489   3rd Qu.: 5.28526   3rd Qu.:0.0033   3rd Qu.:0.0071   3rd Qu.: 0.24398   3rd Qu.:29.23  \n",
       " Max.   :1.9160   Max.   :39.93537   Max.   :0.0181   Max.   :0.0771   Max.   :13.28046   Max.   :66.79  \n",
       " NA's   :349                         NA's   :1266     NA's   :1144     NA's   :68         NA's   :2      \n",
       "     Al_Oxa          Al_Sol_Ca          Al_Tot_Aqu       As_Tot_Aqu         Ba_Sol_Ca            C_inorg      \n",
       " Min.   :  420.4   Min.   : 0.00714   Min.   :  2342   Min.   : 0.08103   Min.   :  0.03848   Min.   :0.0000  \n",
       " 1st Qu.: 2135.7   1st Qu.: 0.02720   1st Qu.: 40378   1st Qu.: 1.88400   1st Qu.:  3.81026   1st Qu.:0.0000  \n",
       " Median : 3126.6   Median : 0.04454   Median : 59606   Median : 3.23473   Median :  8.67862   Median :0.0000  \n",
       " Mean   : 3375.3   Mean   : 0.96385   Mean   : 57359   Mean   : 3.98561   Mean   : 11.81089   Mean   :0.1062  \n",
       " 3rd Qu.: 4121.3   3rd Qu.: 0.31144   3rd Qu.: 75168   3rd Qu.: 4.91815   3rd Qu.: 15.56024   3rd Qu.:0.0069  \n",
       " Max.   :29049.2   Max.   :32.16709   Max.   :163583   Max.   :71.86051   Max.   :129.61623   Max.   :6.7346  \n",
       "                   NA's   :14                          NA's   :30         NA's   :138         NA's   :1       \n",
       "     C_org             C_tot             Ca_CEC         Ca_Tot_Aqu           Cd_DTPA         Cd_Sol_Ca       \n",
       " Min.   : 0.1102   Min.   : 0.1108   Min.   : 1.577   Min.   :    90.56   Min.   :0.0008   Min.   :0.000020  \n",
       " 1st Qu.: 1.2850   1st Qu.: 1.3538   1st Qu.: 9.797   1st Qu.:  2729.63   1st Qu.:0.0130   1st Qu.:0.000140  \n",
       " Median : 1.9686   Median : 2.0245   Median :17.108   Median :  5337.09   Median :0.0222   Median :0.000420  \n",
       " Mean   : 2.2041   Mean   : 2.3103   Mean   :18.194   Mean   :  9322.27   Mean   :0.0273   Mean   :0.002111  \n",
       " 3rd Qu.: 2.8155   3rd Qu.: 2.9450   3rd Qu.:25.598   3rd Qu.:  8818.44   3rd Qu.:0.0353   3rd Qu.:0.002670  \n",
       " Max.   :11.2500   Max.   :11.2500   Max.   :41.897   Max.   :242511.69   Max.   :0.1923   Max.   :0.023160  \n",
       "                                     NA's   :1                            NA's   :420      NA's   :14        \n",
       "   Cd_Tot_Aqu         Co_CaCl          Co_DTPA         Co_Sol_Ca          Co_Tot_Aqu         Cr_Tot_Aqu    \n",
       " Min.   :0.00004   Min.   :0.0014   Min.   :0.0061   Min.   :0.000120   Min.   :  0.6795   Min.   :  2.20  \n",
       " 1st Qu.:0.11484   1st Qu.:0.0167   1st Qu.:0.1096   1st Qu.:0.000650   1st Qu.: 19.6283   1st Qu.: 44.07  \n",
       " Median :0.18621   Median :0.0481   Median :0.2846   Median :0.001825   Median : 33.9595   Median : 69.74  \n",
       " Mean   :0.27939   Mean   :0.1161   Mean   :0.4088   Mean   :0.076505   Mean   : 35.6878   Mean   : 89.55  \n",
       " 3rd Qu.:0.43441   3rd Qu.:0.1543   3rd Qu.:0.6084   3rd Qu.:0.012695   3rd Qu.: 48.3518   3rd Qu.:111.69  \n",
       " Max.   :1.16800   Max.   :0.8015   Max.   :2.4420   Max.   :1.392600   Max.   :128.1903   Max.   :937.96  \n",
       "                   NA's   :933      NA's   :420      NA's   :14                                            \n",
       "    Cu_CaCl          Cu_DTPA        Cu_Sol_Ca         Cu_Tot_Aqu            eCEC           Fe_CaCl      \n",
       " Min.   :0.0001   Min.   :0.041   Min.   :0.00278   Min.   :  0.1589   Min.   : 1.292   Min.   :0.0007  \n",
       " 1st Qu.:0.0153   1st Qu.:1.036   1st Qu.:0.00794   1st Qu.: 21.7637   1st Qu.:15.256   1st Qu.:0.0683  \n",
       " Median :0.0215   Median :1.663   Median :0.00995   Median : 34.5966   Median :25.731   Median :0.1202  \n",
       " Mean   :0.0242   Mean   :1.787   Mean   :0.01119   Mean   : 39.0142   Mean   :26.972   Mean   :0.4009  \n",
       " 3rd Qu.:0.0304   3rd Qu.:2.419   3rd Qu.:0.01285   3rd Qu.: 51.7238   3rd Qu.:38.627   3rd Qu.:0.2904  \n",
       " Max.   :0.0935   Max.   :8.827   Max.   :0.07885   Max.   :189.4077   Max.   :55.781   Max.   :9.8519  \n",
       " NA's   :977      NA's   :420     NA's   :14        NA's   :1          NA's   :1        NA's   :939     \n",
       "    Fe_DTPA            Fe_Oxa        Fe_Sol_Ca         Fe_Tot_Aqu         K_CaCl            K_CEC        \n",
       " Min.   :  1.133   Min.   :  294   Min.   :0.00268   Min.   :  4892   Min.   :  6.364   Min.   :0.03819  \n",
       " 1st Qu.: 12.624   1st Qu.: 3459   1st Qu.:0.01030   1st Qu.: 52340   1st Qu.: 44.603   1st Qu.:0.33247  \n",
       " Median : 30.734   Median : 7306   Median :0.01418   Median : 75803   Median : 70.976   Median :0.59306  \n",
       " Mean   : 44.323   Mean   : 8492   Mean   :0.02149   Mean   : 74859   Mean   : 95.344   Mean   :0.78183  \n",
       " 3rd Qu.: 59.034   3rd Qu.:12296   3rd Qu.:0.02205   3rd Qu.: 98291   3rd Qu.:119.867   3rd Qu.:0.99552  \n",
       " Max.   :382.223   Max.   :33049   Max.   :0.95095   Max.   :197832   Max.   :603.896   Max.   :7.91491  \n",
       " NA's   :420                       NA's   :14                         NA's   :932       NA's   :1        \n",
       "    K_Sol_Ca         K_Tot_Aqu          Mg_CaCl           Mg_CEC          Mg_Sol_Ca        Mg_Tot_Aqu     \n",
       " Min.   :   4.01   Min.   :  146.3   Min.   : 82.65   Min.   : 0.2296   Min.   : 32.29   Min.   :  306.8  \n",
       " 1st Qu.:  63.60   1st Qu.: 2539.0   1st Qu.:269.88   1st Qu.: 2.5143   1st Qu.:166.66   1st Qu.: 3241.8  \n",
       " Median : 122.75   Median : 3575.4   Median :387.39   Median : 4.3107   Median :237.89   Median : 5422.9  \n",
       " Mean   : 177.57   Mean   : 3975.9   Mean   :402.06   Mean   : 5.6072   Mean   :271.15   Mean   : 6980.4  \n",
       " 3rd Qu.: 223.40   3rd Qu.: 4915.4   3rd Qu.:520.07   3rd Qu.: 8.0663   3rd Qu.:350.43   3rd Qu.: 8738.8  \n",
       " Max.   :2333.94   Max.   :12884.1   Max.   :998.73   Max.   :23.2023   Max.   :918.24   Max.   :76548.3  \n",
       " NA's   :14                          NA's   :932      NA's   :1         NA's   :14                        \n",
       "    Mn_CaCl            Mn_DTPA           Mn_Oxa          Mn_Sol_Ca          Mn_Tot_Aqu         Mo_CaCl      \n",
       " Min.   :  0.0611   Min.   :  3.15   Min.   :  31.93   Min.   :  0.0009   Min.   :  73.15   Min.   :0.0000  \n",
       " 1st Qu.:  4.3539   1st Qu.: 23.49   1st Qu.: 842.79   1st Qu.:  0.0076   1st Qu.:1278.62   1st Qu.:0.0002  \n",
       " Median : 13.3530   Median : 60.29   Median :1332.12   Median :  0.0962   Median :1770.66   Median :0.0005  \n",
       " Mean   : 24.2290   Mean   : 80.29   Mean   :1461.74   Mean   : 22.0671   Mean   :1913.57   Mean   :0.0014  \n",
       " 3rd Qu.: 35.1683   3rd Qu.:125.92   3rd Qu.:1912.37   3rd Qu.: 13.8986   3rd Qu.:2421.13   3rd Qu.:0.0015  \n",
       " Max.   :144.5727   Max.   :346.70   Max.   :5781.86   Max.   :337.5928   Max.   :7219.23   Max.   :0.0297  \n",
       " NA's   :932        NA's   :420                        NA's   :14                           NA's   :977     \n",
       "   Mo_Sol_Ca          Mo_Tot_Aqu           N_tot           Na_CaCl            Na_CEC          Na_Sol_Ca      \n",
       " Min.   :0.000010   Min.   : 0.00035   Min.   :0.0093   Min.   :  6.622   Min.   :0.02138   Min.   :  1.146  \n",
       " 1st Qu.:0.000072   1st Qu.: 0.12160   1st Qu.:0.1126   1st Qu.: 12.773   1st Qu.:0.05829   1st Qu.:  8.495  \n",
       " Median :0.000200   Median : 0.31642   Median :0.1731   Median : 16.519   Median :0.08065   Median : 13.072  \n",
       " Mean   :0.001621   Mean   : 0.49958   Mean   :0.1936   Mean   : 19.220   Mean   :0.10999   Mean   : 19.020  \n",
       " 3rd Qu.:0.000788   3rd Qu.: 0.62636   3rd Qu.:0.2424   3rd Qu.: 21.570   3rd Qu.:0.11552   3rd Qu.: 20.375  \n",
       " Max.   :0.170930   Max.   :15.67881   Max.   :1.0020   Max.   :120.306   Max.   :2.16709   Max.   :389.189  \n",
       " NA's   :14         NA's   :96                          NA's   :932       NA's   :1         NA's   :14       \n",
       "   Na_Tot_Aqu          Ni_CaCl          Ni_DTPA         Ni_Sol_Ca         Ni_Tot_Aqu           NOPC      \n",
       " Min.   :   3.391   Min.   :0.0002   Min.   :0.0315   Min.   :0.00178   Min.   :  2.051   Min.   : 6.56  \n",
       " 1st Qu.:  98.202   1st Qu.:0.0456   1st Qu.:0.5294   1st Qu.:0.01373   1st Qu.: 39.639   1st Qu.:16.64  \n",
       " Median : 146.263   Median :0.1085   Median :1.1926   Median :0.05083   Median : 60.864   Median :20.53  \n",
       " Mean   : 237.308   Mean   :0.2291   Mean   :1.7745   Mean   :0.14807   Mean   : 70.918   Mean   :21.06  \n",
       " 3rd Qu.: 236.630   3rd Qu.:0.3016   3rd Qu.:2.3932   3rd Qu.:0.18457   3rd Qu.: 85.784   3rd Qu.:25.02  \n",
       " Max.   :5037.088   Max.   :1.8118   Max.   :9.7792   Max.   :1.37940   Max.   :651.553   Max.   :50.50  \n",
       " NA's   :1          NA's   :940      NA's   :420      NA's   :14                          NA's   :932    \n",
       "     P_CaCl          P_Olsen            P_Oxa             P_Sol_Ca          P_Tot_Aqu          Pb_DTPA      \n",
       " Min.   :0.0930   Min.   :  0.898   Min.   :   4.897   Min.   : 0.00095   Min.   :   9.84   Min.   :0.0114  \n",
       " 1st Qu.:0.2665   1st Qu.:  5.207   1st Qu.: 164.594   1st Qu.: 0.06323   1st Qu.: 284.96   1st Qu.:0.1173  \n",
       " Median :0.3791   Median :  9.081   Median : 294.650   Median : 0.11450   Median : 543.19   Median :0.2011  \n",
       " Mean   :0.6033   Mean   : 17.297   Mean   : 482.770   Mean   : 0.67548   Mean   : 700.56   Mean   :0.2707  \n",
       " 3rd Qu.:0.6428   3rd Qu.: 17.785   3rd Qu.: 592.700   3rd Qu.: 0.27185   3rd Qu.: 929.51   3rd Qu.:0.3320  \n",
       " Max.   :9.5007   Max.   :403.930   Max.   :4484.202   Max.   :62.21064   Max.   :5054.35   Max.   :6.6344  \n",
       " NA's   :932                        NA's   :9          NA's   :20                           NA's   :420     \n",
       "   Pb_Sol_Ca          Pb_Tot_Aqu           PBI             pH_CaNO           pH_w         S_Ads_Seq        \n",
       " Min.   :0.000020   Min.   : 0.8614   Min.   :  18.02   Min.   :4.160   Min.   :4.520   Min.   :  0.00848  \n",
       " 1st Qu.:0.000110   1st Qu.: 7.5070   1st Qu.: 134.39   1st Qu.:4.902   1st Qu.:5.580   1st Qu.:  1.43385  \n",
       " Median :0.000150   Median :12.2626   Median : 209.59   Median :5.620   Median :6.390   Median :  3.82839  \n",
       " Mean   :0.000248   Mean   :12.5637   Mean   : 265.65   Mean   :5.718   Mean   :6.424   Mean   :  7.81459  \n",
       " 3rd Qu.:0.000230   3rd Qu.:16.7143   3rd Qu.: 355.73   3rd Qu.:6.450   3rd Qu.:7.170   3rd Qu.: 10.48728  \n",
       " Max.   :0.007760   Max.   :91.1536   Max.   :1814.96   Max.   :7.660   Max.   :8.750   Max.   :100.31541  \n",
       " NA's   :15                           NA's   :1         NA's   :14                      NA's   :79         \n",
       "     S_CaCl         S_Org_Seq         S_Sol_Seq        S_Tot_Aqu         Se_Ads_Seq          Se_CaCl      \n",
       " Min.   : 1.125   Min.   :  2.208   Min.   : 0.772   Min.   :  1.284   Min.   : 0.09715   Min.   :0.0000  \n",
       " 1st Qu.: 2.570   1st Qu.:110.636   1st Qu.: 3.783   1st Qu.:104.450   1st Qu.: 4.18944   1st Qu.:0.0011  \n",
       " Median : 3.363   Median :183.642   Median : 5.019   Median :174.916   Median : 6.03421   Median :0.0018  \n",
       " Mean   : 3.835   Mean   :210.462   Mean   : 6.053   Mean   :196.500   Mean   : 6.69189   Mean   :0.0022  \n",
       " 3rd Qu.: 4.588   3rd Qu.:284.846   3rd Qu.: 6.994   3rd Qu.:260.497   3rd Qu.: 8.61287   3rd Qu.:0.0028  \n",
       " Max.   :15.078   Max.   :950.168   Max.   :62.400   Max.   :894.055   Max.   :33.31856   Max.   :0.0146  \n",
       " NA's   :932      NA's   :20        NA's   :3        NA's   :2         NA's   :3          NA's   :942     \n",
       "   Se_Org_Seq        Se_Sol_Seq       Se_Tot_Aqu        Ti_Tot_Aqu          U_Sol_Ca           Zn_CaCl      \n",
       " Min.   :  23.84   Min.   : 0.348   Min.   :0.04806   Min.   :    9.76   Min.   :0.000000   Min.   :0.0000  \n",
       " 1st Qu.: 291.95   1st Qu.: 1.756   1st Qu.:0.33960   1st Qu.: 1184.76   1st Qu.:0.000030   1st Qu.:0.0295  \n",
       " Median : 459.83   Median : 2.664   Median :0.47216   Median : 1803.22   Median :0.000050   Median :0.0715  \n",
       " Mean   : 536.49   Mean   : 3.283   Mean   :0.50526   Mean   : 2054.20   Mean   :0.000474   Mean   :0.1345  \n",
       " 3rd Qu.: 747.57   3rd Qu.: 4.255   3rd Qu.:0.64072   3rd Qu.: 2661.26   3rd Qu.:0.000160   3rd Qu.:0.1756  \n",
       " Max.   :2296.62   Max.   :20.269   Max.   :2.58610   Max.   :10090.65   Max.   :0.039080   Max.   :1.0290  \n",
       " NA's   :3         NA's   :3        NA's   :1         NA's   :1          NA's   :14         NA's   :932     \n",
       "    Zn_DTPA              Zn_E             Zn_FIA       Zn_LogKd       Zn_Sol_Ca         Zn_Tot_Aqu     \n",
       " Min.   : 0.00749   Min.   : 0.4378   Min.   :0     Min.   :1.095   Min.   :0.00064   Min.   :  3.719  \n",
       " 1st Qu.: 0.56954   1st Qu.: 4.0436   1st Qu.:0     1st Qu.:2.287   1st Qu.:0.01043   1st Qu.: 80.751  \n",
       " Median : 1.07152   Median : 6.7346   Median :0     Median :3.228   Median :0.02596   Median : 98.613  \n",
       " Mean   : 1.97331   Mean   : 8.6205   Mean   :0     Mean   :3.034   Mean   :0.16522   Mean   : 99.243  \n",
       " 3rd Qu.: 2.11077   3rd Qu.:10.6823   3rd Qu.:0     3rd Qu.:3.732   3rd Qu.:0.15061   3rd Qu.:117.482  \n",
       " Max.   :54.77708   Max.   :94.9413   Max.   :0     Max.   :4.630   Max.   :4.69043   Max.   :290.685  \n",
       "                    NA's   :14        NA's   :932   NA's   :14      NA's   :14                         "
      ]
     },
     "execution_count": null,
     "metadata": {},
     "output_type": "execute_result"
    }
   ],
   "source": [
    "summary(df)"
   ]
  },
  {
   "cell_type": "code",
   "execution_count": 6,
   "metadata": {
    "vscode": {
     "languageId": "r"
    }
   },
   "outputs": [
    {
     "data": {
      "text/plain": [
       "  [1] \"FundingSource\"     \"ID\"                \"Crop_ICP_Run\"      \"Latitude\"          \"Longitude\"        \n",
       "  [6] \"Altitude\"          \"LocationPrecision\" \"SamplingStart\"     \"SamplingEnd\"       \"Crop\"             \n",
       " [11] \"GrainSource\"       \"Site\"              \"Ag_grain\"          \"Al_grain\"          \"As_grain\"         \n",
       " [16] \"B_grain\"           \"Ba_grain\"          \"Be_grain\"          \"Ca_grain\"          \"Cd_grain\"         \n",
       " [21] \"Co_grain\"          \"Cr_grain\"          \"Cs_grain\"          \"Cu_grain\"          \"Fe_grain\"         \n",
       " [26] \"K_grain\"           \"Li_grain\"          \"Mg_grain\"          \"Mn_grain\"          \"Mo_grain\"         \n",
       " [31] \"Ni_grain\"          \"P_grain\"           \"Pb_grain\"          \"Rb_grain\"          \"S_grain\"          \n",
       " [36] \"Se_grain\"          \"Sr_grain\"          \"Tl_grain\"          \"U_grain\"           \"V_grain\"          \n",
       " [41] \"Zn_grain\"          \"Al_Oxa\"            \"Al_Sol_Ca\"         \"Al_Tot_Aqu\"        \"As_Tot_Aqu\"       \n",
       " [46] \"Ba_Sol_Ca\"         \"C_inorg\"           \"C_org\"             \"C_tot\"             \"Ca_CEC\"           \n",
       " [51] \"Ca_Tot_Aqu\"        \"Cd_DTPA\"           \"Cd_Sol_Ca\"         \"Cd_Tot_Aqu\"        \"Co_CaCl\"          \n",
       " [56] \"Co_DTPA\"           \"Co_Sol_Ca\"         \"Co_Tot_Aqu\"        \"Cr_Tot_Aqu\"        \"Cu_CaCl\"          \n",
       " [61] \"Cu_DTPA\"           \"Cu_Sol_Ca\"         \"Cu_Tot_Aqu\"        \"eCEC\"              \"Fe_CaCl\"          \n",
       " [66] \"Fe_DTPA\"           \"Fe_Oxa\"            \"Fe_Sol_Ca\"         \"Fe_Tot_Aqu\"        \"K_CaCl\"           \n",
       " [71] \"K_CEC\"             \"K_Sol_Ca\"          \"K_Tot_Aqu\"         \"Mg_CaCl\"           \"Mg_CEC\"           \n",
       " [76] \"Mg_Sol_Ca\"         \"Mg_Tot_Aqu\"        \"Mn_CaCl\"           \"Mn_DTPA\"           \"Mn_Oxa\"           \n",
       " [81] \"Mn_Sol_Ca\"         \"Mn_Tot_Aqu\"        \"Mo_CaCl\"           \"Mo_Sol_Ca\"         \"Mo_Tot_Aqu\"       \n",
       " [86] \"N_tot\"             \"Na_CaCl\"           \"Na_CEC\"            \"Na_Sol_Ca\"         \"Na_Tot_Aqu\"       \n",
       " [91] \"Ni_CaCl\"           \"Ni_DTPA\"           \"Ni_Sol_Ca\"         \"Ni_Tot_Aqu\"        \"NOPC\"             \n",
       " [96] \"P_CaCl\"            \"P_Olsen\"           \"P_Oxa\"             \"P_Sol_Ca\"          \"P_Tot_Aqu\"        \n",
       "[101] \"Pb_DTPA\"           \"Pb_Sol_Ca\"         \"Pb_Tot_Aqu\"        \"PBI\"               \"pH_CaNO\"          \n",
       "[106] \"pH_w\"              \"S_Ads_Seq\"         \"S_CaCl\"            \"S_Org_Seq\"         \"S_Sol_Seq\"        \n",
       "[111] \"S_Tot_Aqu\"         \"Se_Ads_Seq\"        \"Se_CaCl\"           \"Se_Org_Seq\"        \"Se_Sol_Seq\"       \n",
       "[116] \"Se_Tot_Aqu\"        \"Ti_Tot_Aqu\"        \"U_Sol_Ca\"          \"Zn_CaCl\"           \"Zn_DTPA\"          \n",
       "[121] \"Zn_E\"              \"Zn_FIA\"            \"Zn_LogKd\"          \"Zn_Sol_Ca\"         \"Zn_Tot_Aqu\"       "
      ]
     },
     "execution_count": null,
     "metadata": {},
     "output_type": "execute_result"
    }
   ],
   "source": [
    "colnames(df)"
   ]
  },
  {
   "cell_type": "code",
   "execution_count": 7,
   "metadata": {
    "vscode": {
     "languageId": "r"
    }
   },
   "outputs": [],
   "source": [
    "df_long <-\n",
    "df |>\n",
    "tidyr::pivot_longer(cols = -c('FundingSource','ID','Crop_ICP_Run','Latitude','Longitude','Altitude','LocationPrecision','SamplingStart','SamplingEnd','Crop','GrainSource','Site'),\n",
    "names_to = 'object', values_to = 'value')"
   ]
  },
  {
   "cell_type": "code",
   "execution_count": 8,
   "metadata": {
    "vscode": {
     "languageId": "r"
    }
   },
   "outputs": [
    {
     "data": {
      "text/plain": [
       "\u001b[38;5;246m# A tibble: 152,776 × 14\u001b[39m\n",
       "   FundingSource ID    Crop_ICP_Run Latitude Longitude Altitude LocationPrecision SamplingStart SamplingEnd Crop \n",
       "   \u001b[3m\u001b[38;5;246m<chr>\u001b[39m\u001b[23m         \u001b[3m\u001b[38;5;246m<chr>\u001b[39m\u001b[23m        \u001b[3m\u001b[38;5;246m<dbl>\u001b[39m\u001b[23m    \u001b[3m\u001b[38;5;246m<dbl>\u001b[39m\u001b[23m     \u001b[3m\u001b[38;5;246m<dbl>\u001b[39m\u001b[23m    \u001b[3m\u001b[38;5;246m<dbl>\u001b[39m\u001b[23m             \u001b[3m\u001b[38;5;246m<dbl>\u001b[39m\u001b[23m \u001b[3m\u001b[38;5;246m<chr>\u001b[39m\u001b[23m         \u001b[3m\u001b[38;5;246m<chr>\u001b[39m\u001b[23m       \u001b[3m\u001b[38;5;246m<chr>\u001b[39m\u001b[23m\n",
       "\u001b[38;5;250m 1\u001b[39m GCRF          ETH0…            1     10.7      38.9    \u001b[4m2\u001b[24m464.                 4 25/11/2017    25/11/2017  Wheat\n",
       "\u001b[38;5;250m 2\u001b[39m GCRF          ETH0…            1     10.7      38.9    \u001b[4m2\u001b[24m464.                 4 25/11/2017    25/11/2017  Wheat\n",
       "\u001b[38;5;250m 3\u001b[39m GCRF          ETH0…            1     10.7      38.9    \u001b[4m2\u001b[24m464.                 4 25/11/2017    25/11/2017  Wheat\n",
       "\u001b[38;5;250m 4\u001b[39m GCRF          ETH0…            1     10.7      38.9    \u001b[4m2\u001b[24m464.                 4 25/11/2017    25/11/2017  Wheat\n",
       "\u001b[38;5;250m 5\u001b[39m GCRF          ETH0…            1     10.7      38.9    \u001b[4m2\u001b[24m464.                 4 25/11/2017    25/11/2017  Wheat\n",
       "\u001b[38;5;250m 6\u001b[39m GCRF          ETH0…            1     10.7      38.9    \u001b[4m2\u001b[24m464.                 4 25/11/2017    25/11/2017  Wheat\n",
       "\u001b[38;5;250m 7\u001b[39m GCRF          ETH0…            1     10.7      38.9    \u001b[4m2\u001b[24m464.                 4 25/11/2017    25/11/2017  Wheat\n",
       "\u001b[38;5;250m 8\u001b[39m GCRF          ETH0…            1     10.7      38.9    \u001b[4m2\u001b[24m464.                 4 25/11/2017    25/11/2017  Wheat\n",
       "\u001b[38;5;250m 9\u001b[39m GCRF          ETH0…            1     10.7      38.9    \u001b[4m2\u001b[24m464.                 4 25/11/2017    25/11/2017  Wheat\n",
       "\u001b[38;5;250m10\u001b[39m GCRF          ETH0…            1     10.7      38.9    \u001b[4m2\u001b[24m464.                 4 25/11/2017    25/11/2017  Wheat\n",
       "\u001b[38;5;246m# ℹ 152,766 more rows\u001b[39m\n",
       "\u001b[38;5;246m# ℹ 4 more variables: GrainSource <chr>, Site <chr>, object <chr>, value <dbl>\u001b[39m\n",
       "\u001b[38;5;246m# ℹ Use `print(n = ...)` to see more rows\u001b[39m"
      ]
     },
     "execution_count": null,
     "metadata": {},
     "output_type": "execute_result"
    }
   ],
   "source": [
    "df_long"
   ]
  },
  {
   "cell_type": "code",
   "execution_count": 9,
   "metadata": {
    "vscode": {
     "languageId": "r"
    }
   },
   "outputs": [
    {
     "data": {
      "text/plain": [
       "\u001b[38;5;246m# A tibble: 36,725 × 14\u001b[39m\n",
       "   FundingSource ID    Crop_ICP_Run Latitude Longitude Altitude LocationPrecision SamplingStart SamplingEnd Crop \n",
       "   \u001b[3m\u001b[38;5;246m<chr>\u001b[39m\u001b[23m         \u001b[3m\u001b[38;5;246m<chr>\u001b[39m\u001b[23m        \u001b[3m\u001b[38;5;246m<dbl>\u001b[39m\u001b[23m    \u001b[3m\u001b[38;5;246m<dbl>\u001b[39m\u001b[23m     \u001b[3m\u001b[38;5;246m<dbl>\u001b[39m\u001b[23m    \u001b[3m\u001b[38;5;246m<dbl>\u001b[39m\u001b[23m             \u001b[3m\u001b[38;5;246m<dbl>\u001b[39m\u001b[23m \u001b[3m\u001b[38;5;246m<chr>\u001b[39m\u001b[23m         \u001b[3m\u001b[38;5;246m<chr>\u001b[39m\u001b[23m       \u001b[3m\u001b[38;5;246m<chr>\u001b[39m\u001b[23m\n",
       "\u001b[38;5;250m 1\u001b[39m GCRF          ETH0…            1     10.7      38.9    \u001b[4m2\u001b[24m464.                 4 25/11/2017    25/11/2017  Wheat\n",
       "\u001b[38;5;250m 2\u001b[39m GCRF          ETH0…            1     10.7      38.9    \u001b[4m2\u001b[24m464.                 4 25/11/2017    25/11/2017  Wheat\n",
       "\u001b[38;5;250m 3\u001b[39m GCRF          ETH0…            1     10.7      38.9    \u001b[4m2\u001b[24m464.                 4 25/11/2017    25/11/2017  Wheat\n",
       "\u001b[38;5;250m 4\u001b[39m GCRF          ETH0…            1     10.7      38.9    \u001b[4m2\u001b[24m464.                 4 25/11/2017    25/11/2017  Wheat\n",
       "\u001b[38;5;250m 5\u001b[39m GCRF          ETH0…            1     10.7      38.9    \u001b[4m2\u001b[24m464.                 4 25/11/2017    25/11/2017  Wheat\n",
       "\u001b[38;5;250m 6\u001b[39m GCRF          ETH0…            1     10.7      38.9    \u001b[4m2\u001b[24m464.                 4 25/11/2017    25/11/2017  Wheat\n",
       "\u001b[38;5;250m 7\u001b[39m GCRF          ETH0…            1     10.7      38.9    \u001b[4m2\u001b[24m464.                 4 25/11/2017    25/11/2017  Wheat\n",
       "\u001b[38;5;250m 8\u001b[39m GCRF          ETH0…            1     10.7      38.9    \u001b[4m2\u001b[24m464.                 4 25/11/2017    25/11/2017  Wheat\n",
       "\u001b[38;5;250m 9\u001b[39m GCRF          ETH0…            1     10.7      38.9    \u001b[4m2\u001b[24m464.                 4 25/11/2017    25/11/2017  Wheat\n",
       "\u001b[38;5;250m10\u001b[39m GCRF          ETH0…            1     10.7      38.9    \u001b[4m2\u001b[24m464.                 4 25/11/2017    25/11/2017  Wheat\n",
       "\u001b[38;5;246m# ℹ 36,715 more rows\u001b[39m\n",
       "\u001b[38;5;246m# ℹ 4 more variables: GrainSource <chr>, Site <chr>, object <chr>, value <dbl>\u001b[39m\n",
       "\u001b[38;5;246m# ℹ Use `print(n = ...)` to see more rows\u001b[39m"
      ]
     },
     "execution_count": null,
     "metadata": {},
     "output_type": "execute_result"
    }
   ],
   "source": [
    "df_wheat <-\n",
    "df_long |>\n",
    "dplyr::filter(Crop == 'Wheat')\n",
    "\n",
    "df_wheat"
   ]
  },
  {
   "cell_type": "code",
   "execution_count": 10,
   "metadata": {
    "vscode": {
     "languageId": "r"
    }
   },
   "outputs": [
    {
     "data": {
      "image/png": "[encoded data removed]"
     },
     "metadata": {},
     "output_type": "display_data"
    }
   ],
   "source": [
    "df |>\n",
    "filter(Crop == \"Wheat\") |>\n",
    "ggplot(aes(x = Ca_grain)) +\n",
    "geom_histogram(col = \"black\", bins = 40)"
   ]
  },
  {
   "cell_type": "code",
   "execution_count": 11,
   "metadata": {
    "vscode": {
     "languageId": "r"
    }
   },
   "outputs": [],
   "source": [
    "filt_to_hist <- function(df_to_plot, crop_filter_var, hist_var) {\n",
    "    # Function filters to filter var then plots hist_var as a histogram\n",
    "    crop_filter <- rlang::parse_exprs(crop_filter_var)\n",
    "    \n",
    "    gg_out <- df_to_plot |>\n",
    "    filter(Crop == !!crop_filter_var) |>\n",
    "    ggplot(aes(x = .data[[hist_var]])) +\n",
    "    geom_histogram(col = \"black\", bins = 40) +\n",
    "    labs(title = paste('Crop = ', crop_filter, '\\nVar = ', hist_var, sep = \"\"))\n",
    "\n",
    "    gg_out\n",
    "}"
   ]
  },
  {
   "cell_type": "code",
   "execution_count": 12,
   "metadata": {
    "vscode": {
     "languageId": "r"
    }
   },
   "outputs": [
    {
     "data": {
      "image/png": "[encoded data removed]"
     },
     "metadata": {},
     "output_type": "display_data"
    }
   ],
   "source": [
    "filt_to_hist(df, 'Wheat', 'Ca_grain')"
   ]
  },
  {
   "cell_type": "markdown",
   "metadata": {},
   "source": [
    "Convert mg/kg to ng/g or ppb"
   ]
  },
  {
   "cell_type": "code",
   "execution_count": 17,
   "metadata": {
    "vscode": {
     "languageId": "r"
    }
   },
   "outputs": [
    {
     "data": {
      "text/plain": [
       "   [1]  400337.57  378905.51  391716.91  350271.09  255216.67  352407.48  398055.13  388813.80 1261569.94\n",
       "  [10] 1202872.39 3401063.36  336037.82   40603.48   38896.64  404900.36 1798637.62   55708.33 1189848.91\n",
       "  [19]  403681.93 1200413.64 1050125.68 1235109.58 1810134.55 1231390.53  298516.90  343690.58  295404.94\n",
       "  [28]  363221.32  442384.36 1235594.46  393664.81  436336.01  395895.04 1457126.88 1459715.55  405073.46\n",
       "  [37]  336061.32 1025308.57 1048364.01   39563.29 1229927.40 1113367.50 1195178.34   41460.14 4497102.28\n",
       "  [46]   41039.72 1429682.91   42237.57  423887.39   48169.91   40387.61  332985.45   81368.28 1290067.28\n",
       "  [55] 1354601.38 1457871.89 1232042.92 1375008.92  181084.40  371491.05  137992.63 1346064.70  133890.86\n",
       "  [64]  141979.76  419548.17 1531928.69  460223.34  352541.22  392887.60 1428738.36  570082.84  541310.48\n",
       "  [73]  467034.25  468217.53 1167239.19 1444328.99  131566.35 1451297.52 1483499.27 1223184.16 1271561.30\n",
       "  [82]  522682.06  502233.18  433470.75  562910.01 1517276.08 1746623.59  393003.74  439006.52  394171.99\n",
       "  [91]  779890.51  465468.90  299272.63  343374.17 1456766.17  395930.09  439273.03  476885.86  413346.24\n",
       " [100]  362638.57  363487.12  400594.97  329955.06  367817.36  361672.76  411817.48  493245.35  337633.73\n",
       " [109] 1371671.84  169573.98 1554000.68 1455136.66  464484.59  415831.39   82303.26 1333214.58 4559703.46\n",
       " [118]  281154.25  265919.51  298839.58   50703.39   41232.32 1469913.67  408405.46 1404780.28  342261.26\n",
       " [127]  474474.97  347265.15  306797.93  312339.13  391744.73  374832.83  396373.07  326810.75  312677.54\n",
       " [136]  378092.48 1667205.55 1077698.60  135713.06  371299.97 1130006.94  521975.88 1512459.95  419232.30\n",
       " [145]  355118.83  458180.45  330405.34 1135398.35  300473.44  344295.23  330999.30   35548.01   65272.33\n",
       " [154]  314797.81   32386.70  325931.28  290454.69  323712.74 1539376.90  301912.41   35937.91  294660.27\n",
       " [163] 1460438.02   53298.81 1237682.59 1096678.87  314930.30  315151.95 1442886.54 1292847.07 1179869.53\n",
       " [172]  400541.36  296543.10 1535406.58   66797.17 4151775.30   73991.85  319162.90  226247.28  293564.13\n",
       " [181]  354366.46  425607.93  358573.37  303108.14  307712.01   37376.06  291586.06   38484.99  410705.55\n",
       " [190] 1398752.09  340644.96   43604.84 1261863.17 1225291.96   44020.25 1374864.55 1176927.54   32269.17\n",
       " [199]   32740.88   32608.68 3959686.49   33890.15   42751.23   34219.94 1471727.95 1714095.01   42946.64\n",
       " [208]   60510.09   36608.20   66630.17   33921.99   52627.33   62987.42 1420675.49   43466.08   58520.45\n",
       " [217]   38072.23   31514.89   42953.75  100275.68   42576.50   37742.07   24351.27   38246.44  307349.27\n",
       " [226]   56172.76   59034.06   82506.51  337416.97 1446755.04  286916.36   56794.68   80613.95   33189.58\n",
       " [235]   42660.88   35816.98   64327.90   26326.86   57291.21   46779.16  397250.29  426971.84  278109.53\n",
       " [244]   77519.09  343173.46  268860.93  357398.79   42879.20 1554316.83   42469.03  350485.55  159343.18\n",
       " [253] 1899261.06  131048.16 1319817.32 1721765.84 1336982.12  573602.75 1085432.24 1350767.71 1183229.43\n",
       " [262]  446702.64  316983.33  282089.46 1279970.86 1173686.59  338844.31  253219.94  490944.60  437427.35\n",
       " [271]  490933.86  350154.09 1193266.56  346744.19  949309.38  423029.55  131301.06 1689482.46 1519918.06\n",
       " [280]   99944.67  476400.95  945337.29  193441.87   56822.21 1358126.36 1619447.96 1614605.72 1566554.63\n",
       " [289]  127613.97 2117597.64  366687.32  322832.97 1307034.92 1299582.33 1191820.46 1125460.16 1015866.47\n",
       " [298]  344084.96 1408171.42  422454.78  144724.51 1435524.55  607427.42  514773.41  319689.07  779706.03\n",
       " [307]  570221.40  501598.27  380551.07  688122.17  545729.05  656764.10  569205.34  384239.68  590167.46\n",
       " [316]  395087.98  431043.46  528397.52  364878.44  508830.92  814986.76   81259.74  576865.13 1254910.82\n",
       " [325] 1338890.54   49671.61  217330.28  159437.95   98679.39   59689.23  377876.63  564645.92  513674.90\n",
       " [334]  147414.53  200430.94   33162.55  412234.49  651565.84  350799.48  299481.61  501542.41  328265.33\n",
       " [343]  364919.73  572466.83  326242.81  388767.19  287712.85  419590.45  454290.94  353105.26  432481.07\n",
       " [352]  333977.45 1463636.31 1061164.93  410116.74  351157.02  425782.66 1598081.43   50772.72  323454.23\n",
       " [361] 1284648.70   46765.45 1340121.58  513209.03  373084.10  460108.67  291028.88 1469053.18 1505183.31\n",
       " [370] 1500171.39  991671.65  220630.63 1626885.38 1563947.21 1625874.06 1592737.19  416396.10  436521.29\n",
       " [379] 1719621.23  439185.33 1593502.73 1642743.39 1362670.45 1899626.48 1481772.18 1256458.49 1024551.37\n",
       " [388] 1228391.15 1305611.31 1386412.55 1289238.59 1313684.04 1117770.61 1456564.29 1502006.40 1356491.19\n",
       " [397]   53974.15 1614279.33 1404475.90 1588924.51 1503345.59 1565668.13 1366794.50 1272827.48 1355411.54\n",
       " [406] 1313740.45  356708.66 1593354.64 1290669.46 1359096.97 1380048.24 1241635.17 1016874.92 1238831.10\n",
       " [415]   33380.37   56147.88   43028.47  426293.15  440980.04  254611.14  378258.39  462725.71  351381.92\n",
       " [424]  424598.23  364801.89  327025.37  367530.78  326234.88  361981.73  394560.23  416532.23 4514466.65\n",
       " [433]  452450.27 4736082.83  142683.55  141475.67  219922.04  213087.96   70182.30  169664.52 1221722.86\n",
       " [442] 1775040.69  550721.88  600399.46  280763.59  187438.32 1479519.42 1459901.17  160478.35  113792.28\n",
       " [451]  489795.82  152928.73   76883.48  323821.63   91122.23  405608.25  372445.07  201887.19 1640889.17\n",
       " [460] 4716324.58 1578798.94 1351910.95  417164.18 2276185.11 4852167.19 1419674.16 3379344.93  168163.06\n",
       " [469]  137274.31  136191.29 4573961.88   51328.77   77704.76   64797.77   83222.82   40240.83  497482.38\n",
       " [478] 5156677.73   54150.91  470272.05  396083.52  444450.61  428805.54  445632.15  191118.83  188905.54\n",
       " [487]  168415.32  231352.95 4479044.44  311606.83  191913.65  231339.52  216305.26   47643.04 4390691.24\n",
       " [496]  256788.03 4327596.42 1425495.85 4609247.11   47488.08  246025.68   89753.08 4354302.93 1492034.85\n",
       " [505] 1309738.10 1538750.90 4980977.38 5290330.72 1352906.92 1294798.51 4361934.31 1407920.59   61697.70\n",
       " [514] 1378043.03 1229184.05  528762.36 2104628.05  497102.52  401678.65 1306703.94  532691.03  536329.17\n",
       " [523]  276758.77  556216.83  522618.95  435277.94  459155.21  451343.16  147418.83  178787.12 1574793.84\n",
       " [532] 1553897.27  137874.79   41179.05  175703.08  458378.85  493105.56  454338.59  459188.71  212631.53\n",
       " [541]  274018.12  281841.18  241943.35  381554.40 1549707.42 3971096.67  470918.85  586370.98  141577.22\n",
       " [550]  184794.66  159090.84  213453.11 1398130.16  424039.58  317512.92 4506082.29   52974.03  461412.18\n",
       " [559]  444747.60  465375.84 1572607.29  485758.15  527935.56  520785.72 7924585.51   64610.55  311541.62\n",
       " [568] 1473329.57  455390.16 1515163.63 1519681.67 4307790.29 1579833.84 1641156.59 1635705.29  265549.64\n",
       " [577]  220873.16  641949.54 1587252.44  369371.24  447882.82  395321.28   63815.70  127070.92  507887.99\n",
       " [586]  543941.94  506653.74  345750.79  415047.49  427946.30  388901.85  399183.50  426411.68  461950.45\n",
       " [595]  446332.13 1244712.36  367628.06  540845.33  407709.46  413017.37 1599339.29   49266.23   56099.73\n",
       " [604]  165541.81   56053.07 2184937.00  156788.75  284795.48  376936.28  398130.88  249146.90 1327833.82\n",
       " [613] 1698053.74  344448.59 1581154.83 1626307.20  456464.85 5383504.41  382770.56   70830.41   50236.18\n",
       " [622]   62598.47 1605853.45   99386.07 1292673.35   99933.21  417466.25 1484341.49 1434334.66 1426578.94\n",
       " [631]  380787.69  429449.53  407773.20  297632.15  394993.88  455929.84 1575018.12  516244.83  321903.48\n",
       " [640] 1146246.17 1332390.06  481050.04   61458.54   78729.31  214594.04   45975.03  494622.92  246709.32\n",
       " [649]  151531.01  115833.78   70213.87   71792.61  431434.84 1454618.42   65200.11 4849983.79   74170.12\n",
       " [658] 1818617.48  430658.93  440992.77   57572.42   71836.36 1434572.41 1456682.75   44075.65  303544.35\n",
       " [667]  434711.15  420982.71 1339705.34 1487362.46  445372.49 1550213.27 1513403.31  354658.98  389899.74\n",
       " [676]  378379.41 1351438.16 1388944.51 1447946.61   83300.04  486122.81  303189.24 1290963.85 1501843.81\n",
       " [685] 1543880.56   53850.06 1482181.44 1612986.86  423379.74 1504995.24 1537097.69 1477357.28  409948.94\n",
       " [694]  326998.56 1404869.05 1298910.78  435771.43  409977.71  397665.35 1198624.87  110173.52  466132.04\n",
       " [703]  445537.45  460141.10 1579553.56  407740.86  430379.69  488914.47  392920.54  528927.91 1576981.17\n",
       " [712] 1517571.34 1611946.60 1561698.69 1702810.40 1644065.08  414340.47  444250.34 1685753.05 1573655.68\n",
       " [721]  342054.91  161396.65  144517.52  317479.92 1504439.08 1226230.91  303636.83  388084.68 1600460.46\n",
       " [730] 1495462.73 1508720.45 3202753.91   56473.08  404906.29  158426.13 1724365.95   78426.41 1323751.31\n",
       " [739]  444441.85  499266.99  506640.61  568103.49  404773.18 2358837.51  153375.75   55072.60 1604540.64\n",
       " [748] 5216301.71 4852556.16 1935557.06   74741.00   80968.28  168067.05  318725.12   98667.93   84994.52\n",
       " [757]   67773.31 1498486.40  402710.05  393752.34   68352.55   92622.20   53873.79   50657.67  429480.46\n",
       " [766]  411173.62  106330.88 6263959.08 2010941.02 2006995.71   66545.56  369197.43   59788.55 1660142.00\n",
       " [775]  406935.78 1764418.91 1658632.14   92691.45   66730.08   59524.71   55888.11 1478727.35   71183.74\n",
       " [784]   58595.85  118699.39   70813.56   52800.97   66354.44   75124.88   83562.39  460301.53 1758072.06\n",
       " [793] 1646056.85  441260.93  463694.71  332034.26  346812.82  426055.91  368183.10   47695.59 1379145.25\n",
       " [802] 1469767.55 1302398.35  338223.58 1421993.81 1575427.54   49463.24   45934.58 1492720.97   64956.01\n",
       " [811]   59926.67  388818.08  342619.32   56967.81 1524627.15 1418774.05 1466661.97 1532566.94 1417813.44\n",
       " [820] 4481365.81 4184017.44   52586.81 1627444.19 1394354.37   57373.19 1597103.46   51944.39   67638.37\n",
       " [829]   58036.57   57648.85   56001.90   42816.64   97670.20 1332620.78   57418.88 1331970.72   56925.54\n",
       " [838] 1439130.74 1413929.76   50284.55   47305.22   36069.78  397271.49 5799415.82   45256.59 4821739.81\n",
       " [847] 5233818.54  347622.43   66733.42 1353665.34   69862.38   57690.20 4804212.54  316790.86 1658250.89\n",
       " [856] 1610871.99  480230.16 1576488.91 1576103.70   43247.38 1457647.75 1407891.42 1546845.24 1555638.43\n",
       " [865] 1518123.73   42105.56   85746.60   79806.70 1291594.96  228494.99   67805.52  101600.89  297640.03\n",
       " [874] 1455457.19 1590642.37   44185.11  104407.57   68308.36 1620216.83 1316707.44   65957.43   85292.37\n",
       " [883]   67496.41  475588.81  398878.97   50680.85  450673.27 1781052.17  472472.00  448867.06  472953.44\n",
       " [892]  498669.35  409966.23 1502147.22 1714772.64 1463734.08   75634.19  110765.02  100227.69   65279.00\n",
       " [901]  111835.03   60503.20   98050.12   48233.73  428064.25 1500237.91   57983.63  100733.03   60316.52\n",
       " [910]   65288.33   67113.86 1599289.17  815569.67  578417.18  523238.43  481014.06  430303.06  489664.47\n",
       " [919]  373768.06  484909.02  404691.39  433995.94  352368.16  327432.24  364350.51 5648843.93   72902.47\n",
       " [928] 5224512.76  405669.38  410984.01   58052.73   57634.63  284896.88 1733561.61  412703.52  369763.85\n",
       " [937] 1621374.15 1453278.58  443702.62 1309621.53  404724.48  489604.98   85109.82  479658.59  532224.36\n",
       " [946] 1465735.26   69693.73  460065.16  458194.23  462269.51  461558.21 1674361.06  469609.64  471060.34\n",
       " [955]  446362.51   94800.01 1294398.56 1334013.93  423589.96  448616.32 1465388.07  379444.07 1338438.08\n",
       " [964]  415690.74   80826.15 1263147.27 1289599.06 1367759.28 1456042.29 1465284.61  525857.49 1414962.57\n",
       " [973] 1895159.78   86493.40  533880.63  651774.23  420459.89  442170.23  449019.59   68771.61  419248.95\n",
       " [982]  425403.82  429368.99  410647.45  407573.96  483410.82  408042.89  422300.02  383401.27  428493.88\n",
       " [991]  365763.99  365763.99  371318.53  416417.12  399296.23  415598.45 1825503.84  268278.31  421554.83\n",
       "[1000]  356740.78\n",
       " [ reached getOption(\"max.print\") -- omitted 352 entries ]"
      ]
     },
     "execution_count": null,
     "metadata": {},
     "output_type": "execute_result"
    }
   ],
   "source": [
    "df |>\n",
    "  dplyr::mutate(\n",
    "    Ca_grain_ppb = Ca_grain*1000\n",
    "  ) |>\n",
    "  dplyr::pull(Ca_grain_ppb)"
   ]
  },
  {
   "cell_type": "code",
   "execution_count": null,
   "metadata": {
    "vscode": {
     "languageId": "r"
    }
   },
   "outputs": [],
   "source": []
  }
 ],
 "metadata": {
  "kernelspec": {
   "display_name": "R",
   "language": "R",
   "name": "ir"
  },
  "language_info": {
   "codemirror_mode": "r",
   "file_extension": ".r",
   "mimetype": "text/x-r-source",
   "name": "R",
   "pygments_lexer": "r",
   "version": "4.4.2"
  }
 },
 "nbformat": 4,
 "nbformat_minor": 2
}
